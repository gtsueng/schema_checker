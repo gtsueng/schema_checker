{
 "cells": [
  {
   "cell_type": "code",
   "execution_count": 1,
   "id": "f4043350",
   "metadata": {},
   "outputs": [],
   "source": [
    "import json\n",
    "import pathlib\n",
    "import os"
   ]
  },
  {
   "cell_type": "code",
   "execution_count": 2,
   "id": "b5b89fc2",
   "metadata": {},
   "outputs": [],
   "source": [
    "from_api_file = 'bioschemastypes_from_API.json'\n",
    "from_repo_file = 'bioschemastypes_from_REPO.json'"
   ]
  },
  {
   "cell_type": "code",
   "execution_count": 3,
   "id": "e63c432b",
   "metadata": {},
   "outputs": [],
   "source": [
    "with open(from_api_file,'r') as tempinfile:\n",
    "    from_api = json.load(tempinfile)\n",
    "\n",
    "with open(from_repo_file,'r') as tempinfile2:\n",
    "    from_repo = json.load(tempinfile2)"
   ]
  },
  {
   "cell_type": "code",
   "execution_count": 4,
   "id": "96ff3860",
   "metadata": {},
   "outputs": [
    {
     "name": "stdout",
     "output_type": "stream",
     "text": [
      "dict_keys(['name', 'url', 'source', 'total', 'hits'])\n"
     ]
    }
   ],
   "source": [
    "print(from_api.keys())"
   ]
  },
  {
   "cell_type": "code",
   "execution_count": 5,
   "id": "5b9aab3f",
   "metadata": {},
   "outputs": [
    {
     "name": "stdout",
     "output_type": "stream",
     "text": [
      "dict_keys(['@context', '@graph'])\n",
      "{'schema': 'http://schema.org/', 'rdf': 'http://www.w3.org/1999/02/22-rdf-syntax-ns#', 'rdfs': 'http://www.w3.org/2000/01/rdf-schema#', 'bioschemastypes': 'https://discovery.biothings.io/view/bioschemastypes/', 'bioschemas': 'https://discovery.biothings.io/view/bioschemas/', 'bioschemasdrafts': 'https://discovery.biothings.io/view/bioschemasdrafts/', 'bioschemastypesdrafts': 'https://discovery.biothings.io/view/bioschemastypesdrafts/', 'bioschemasdeprecated': 'https://discovery.biothings.io/view/bioschemasdeprecated/', 'dct': 'http://purl.org/dc/terms/', 'owl': 'http://www.w3.org/2002/07/owl#', 'schema:dateModified': '04/07/2022, 19:26:16'}\n"
     ]
    }
   ],
   "source": [
    "print(from_api['source'].keys())\n",
    "print(from_api['source']['@context'])"
   ]
  },
  {
   "cell_type": "code",
   "execution_count": 6,
   "id": "09f74d92",
   "metadata": {},
   "outputs": [
    {
     "name": "stdout",
     "output_type": "stream",
     "text": [
      "dict_keys(['@context', '@graph'])\n",
      "{'schema': 'http://schema.org/', 'rdf': 'http://www.w3.org/1999/02/22-rdf-syntax-ns#', 'rdfs': 'http://www.w3.org/2000/01/rdf-schema#', 'bioschemastypes': 'https://discovery.biothings.io/view/bioschemastypes/', 'bioschemas': 'https://discovery.biothings.io/view/bioschemas/', 'bioschemasdrafts': 'https://discovery.biothings.io/view/bioschemasdrafts/', 'bioschemastypesdrafts': 'https://discovery.biothings.io/view/bioschemastypesdrafts/', 'bioschemasdeprecated': 'https://discovery.biothings.io/view/bioschemasdeprecated/', 'dct': 'http://purl.org/dc/terms/', 'owl': 'http://www.w3.org/2002/07/owl#', 'schema:dateModified': '04/07/2022, 19:26:16'}\n"
     ]
    }
   ],
   "source": [
    "print(from_repo.keys())\n",
    "print(from_repo['@context'])"
   ]
  },
  {
   "cell_type": "code",
   "execution_count": 13,
   "id": "792d046d",
   "metadata": {},
   "outputs": [],
   "source": [
    "## This script checks to see if the keys for the @context and @graph are the same\n",
    "def check_context(from_api,from_repo):\n",
    "    api_context = from_api['source']['@context']\n",
    "    repo_context = from_repo['@context']\n",
    "    if api_context.keys() == repo_context.keys():\n",
    "        isSame = True\n",
    "    else:\n",
    "        isSame = False\n",
    "    return (isSame)\n",
    "\n",
    "def get_graphs(from_api,from_repo):\n",
    "    api_graph = from_api['source']['@graph']\n",
    "    repo_graph = from_repo['@graph']\n",
    "    api_graphlist = [x['@id'] for x in api_graph]\n",
    "    repo_graphlist = [x['@id'] for x in repo_graph]\n",
    "    return(api_graphlist,repo_graphlist)\n",
    "\n",
    "def check_graph_elements(from_api,from_repo):\n",
    "    api_graphlist,repo_graphlist = get_graphs(from_api,from_repo)\n",
    "    api_repo_intersect = [x for x in api_graphlist if x not in repo_graphlist]\n",
    "    repo_api_intersect = [x for x in repo_graphlist if x not in api_graphlist]\n",
    "    if len(api_repo_intersect)+len(repo_api_intersect)==0:\n",
    "        isSameElements = True\n",
    "    else:\n",
    "        isSameElements = False\n",
    "    return (isSameElements)"
   ]
  },
  {
   "cell_type": "code",
   "execution_count": 8,
   "id": "ad91ccb2",
   "metadata": {},
   "outputs": [
    {
     "name": "stdout",
     "output_type": "stream",
     "text": [
      "True\n",
      "True\n"
     ]
    }
   ],
   "source": [
    "isSameContext = check_context(from_api,from_repo)\n",
    "isSameElements = check_graph_elements(from_api,from_repo)\n",
    "print(isSameContext)\n",
    "print(isSameElements)"
   ]
  },
  {
   "cell_type": "code",
   "execution_count": 9,
   "id": "d79cc15a",
   "metadata": {},
   "outputs": [],
   "source": [
    "def dict_compare(d1, d2):\n",
    "    d1_keys = set(d1.keys())\n",
    "    d2_keys = set(d2.keys())\n",
    "    shared_keys = d1_keys.intersection(d2_keys)\n",
    "    added = d1_keys - d2_keys\n",
    "    removed = d2_keys - d1_keys\n",
    "    modified = {o : (d1[o], d2[o]) for o in shared_keys if d1[o] != d2[o]}\n",
    "    same = set(o for o in shared_keys if d1[o] == d2[o])\n",
    "    return added, removed, modified, same"
   ]
  },
  {
   "cell_type": "code",
   "execution_count": 16,
   "id": "265a420f",
   "metadata": {},
   "outputs": [],
   "source": [
    "def get_detailed_comparison(from_api,from_repo):\n",
    "    api_graphlist,repo_graphlist = get_graphs(from_api,from_repo)\n",
    "    addedlist = []\n",
    "    removedlist = []\n",
    "    modifiedlist = []\n",
    "    idlist = [x['@id'] for x in api_graphlist]\n",
    "    for i in idlist:\n",
    "        added, removed, modified, same = dict_compare(from_api['source']['@graph'][i], from_repo['@graph'][i])\n",
    "        if len(added)>0:\n",
    "            addedlist.extend(list(added))\n",
    "        if len(removed)>0:\n",
    "            removedlist.extend(list(removed))\n",
    "        if len(modified.keys())>0:\n",
    "            modifiedlist.append(modified)\n",
    "    return(addedlist,removedlist,modifiedlist)"
   ]
  },
  {
   "cell_type": "code",
   "execution_count": 17,
   "id": "fc2400e7",
   "metadata": {},
   "outputs": [
    {
     "ename": "TypeError",
     "evalue": "list indices must be integers or slices, not str",
     "output_type": "error",
     "traceback": [
      "\u001b[1;31m---------------------------------------------------------------------------\u001b[0m",
      "\u001b[1;31mTypeError\u001b[0m                                 Traceback (most recent call last)",
      "\u001b[1;32m~\\AppData\\Local\\Temp/ipykernel_15664/3088912202.py\u001b[0m in \u001b[0;36m<module>\u001b[1;34m\u001b[0m\n\u001b[1;32m----> 1\u001b[1;33m \u001b[0maddedlist\u001b[0m\u001b[1;33m,\u001b[0m\u001b[0mremovedlist\u001b[0m\u001b[1;33m,\u001b[0m\u001b[0mmodifiedlist\u001b[0m \u001b[1;33m=\u001b[0m \u001b[0mget_detailed_comparison\u001b[0m\u001b[1;33m(\u001b[0m\u001b[0mfrom_api\u001b[0m\u001b[1;33m,\u001b[0m\u001b[0mfrom_repo\u001b[0m\u001b[1;33m)\u001b[0m\u001b[1;33m\u001b[0m\u001b[1;33m\u001b[0m\u001b[0m\n\u001b[0m\u001b[0;32m      2\u001b[0m \u001b[0mprint\u001b[0m\u001b[1;33m(\u001b[0m\u001b[0maddedlist\u001b[0m\u001b[1;33m)\u001b[0m\u001b[1;33m\u001b[0m\u001b[1;33m\u001b[0m\u001b[0m\n",
      "\u001b[1;32m~\\AppData\\Local\\Temp/ipykernel_15664/2885789667.py\u001b[0m in \u001b[0;36mget_detailed_comparison\u001b[1;34m(from_api, from_repo)\u001b[0m\n\u001b[0;32m      5\u001b[0m     \u001b[0mmodifiedlist\u001b[0m \u001b[1;33m=\u001b[0m \u001b[1;33m[\u001b[0m\u001b[1;33m]\u001b[0m\u001b[1;33m\u001b[0m\u001b[1;33m\u001b[0m\u001b[0m\n\u001b[0;32m      6\u001b[0m     \u001b[1;32mfor\u001b[0m \u001b[0mi\u001b[0m \u001b[1;32min\u001b[0m \u001b[0mapi_graphlist\u001b[0m\u001b[1;33m:\u001b[0m\u001b[1;33m\u001b[0m\u001b[1;33m\u001b[0m\u001b[0m\n\u001b[1;32m----> 7\u001b[1;33m         \u001b[0madded\u001b[0m\u001b[1;33m,\u001b[0m \u001b[0mremoved\u001b[0m\u001b[1;33m,\u001b[0m \u001b[0mmodified\u001b[0m\u001b[1;33m,\u001b[0m \u001b[0msame\u001b[0m \u001b[1;33m=\u001b[0m \u001b[0mdict_compare\u001b[0m\u001b[1;33m(\u001b[0m\u001b[0mfrom_api\u001b[0m\u001b[1;33m[\u001b[0m\u001b[1;34m'source'\u001b[0m\u001b[1;33m]\u001b[0m\u001b[1;33m[\u001b[0m\u001b[1;34m'@graph'\u001b[0m\u001b[1;33m]\u001b[0m\u001b[1;33m[\u001b[0m\u001b[0mi\u001b[0m\u001b[1;33m]\u001b[0m\u001b[1;33m,\u001b[0m \u001b[0mfrom_repo\u001b[0m\u001b[1;33m[\u001b[0m\u001b[1;34m'@graph'\u001b[0m\u001b[1;33m]\u001b[0m\u001b[1;33m[\u001b[0m\u001b[0mi\u001b[0m\u001b[1;33m]\u001b[0m\u001b[1;33m)\u001b[0m\u001b[1;33m\u001b[0m\u001b[1;33m\u001b[0m\u001b[0m\n\u001b[0m\u001b[0;32m      8\u001b[0m         \u001b[1;32mif\u001b[0m \u001b[0mlen\u001b[0m\u001b[1;33m(\u001b[0m\u001b[0madded\u001b[0m\u001b[1;33m)\u001b[0m\u001b[1;33m>\u001b[0m\u001b[1;36m0\u001b[0m\u001b[1;33m:\u001b[0m\u001b[1;33m\u001b[0m\u001b[1;33m\u001b[0m\u001b[0m\n\u001b[0;32m      9\u001b[0m             \u001b[0maddedlist\u001b[0m\u001b[1;33m.\u001b[0m\u001b[0mextend\u001b[0m\u001b[1;33m(\u001b[0m\u001b[0mlist\u001b[0m\u001b[1;33m(\u001b[0m\u001b[0madded\u001b[0m\u001b[1;33m)\u001b[0m\u001b[1;33m)\u001b[0m\u001b[1;33m\u001b[0m\u001b[1;33m\u001b[0m\u001b[0m\n",
      "\u001b[1;31mTypeError\u001b[0m: list indices must be integers or slices, not str"
     ]
    }
   ],
   "source": [
    "addedlist,removedlist,modifiedlist = get_detailed_comparison(from_api,from_repo)\n",
    "print(addedlist)"
   ]
  },
  {
   "cell_type": "code",
   "execution_count": null,
   "id": "2655cfe8",
   "metadata": {},
   "outputs": [],
   "source": []
  }
 ],
 "metadata": {
  "kernelspec": {
   "display_name": "Python 3 (ipykernel)",
   "language": "python",
   "name": "python3"
  },
  "language_info": {
   "codemirror_mode": {
    "name": "ipython",
    "version": 3
   },
   "file_extension": ".py",
   "mimetype": "text/x-python",
   "name": "python",
   "nbconvert_exporter": "python",
   "pygments_lexer": "ipython3",
   "version": "3.8.5"
  }
 },
 "nbformat": 4,
 "nbformat_minor": 5
}

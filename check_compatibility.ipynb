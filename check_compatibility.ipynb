{
 "cells": [
  {
   "cell_type": "markdown",
   "metadata": {},
   "source": [
    "## Schema checker for DDE-compatibility\n",
    "\n",
    "The Data Discovery Engine's Schema Playground is very strict when ingesting and displaying schemas, but more flexible when creating them. As a result, it is possible to use the Schema Playground to create a schema that would not be viewable in the playground's schema viewer.\n",
    "\n",
    "This script uses github actions to automatically fix a known source of \"internal error\" in schemas so that they can be viewed with the schema viewer. This error is caused by the creation of properties dependent on non-schema.org classes. It creates a dummy class so that that the DDE schema playground viewer can bypass this issue.\n",
    "\n",
    "This script does NOT address other issues with json schema validation"
   ]
  },
  {
   "cell_type": "code",
   "execution_count": 9,
   "metadata": {},
   "outputs": [],
   "source": [
    "import json\n",
    "import pathlib\n",
    "import os\n",
    "from jsonschema import validate\n",
    "\n",
    "#script_path = pathlib.Path(__file__).parent.absolute()\n",
    "script_path = ''"
   ]
  },
  {
   "cell_type": "code",
   "execution_count": 2,
   "metadata": {},
   "outputs": [],
   "source": [
    "def check_files(script_path):\n",
    "    draft_folder = os.path.join(script_path,'drafts/')\n",
    "    edited_folder = os.path.join(script_path,'edited/')\n",
    "    draftlist = os.listdir(draft_folder)\n",
    "    editlist = os.listdir(edited_folder)\n",
    "    newfiles = [x for x in draftlist if x not in editlist]\n",
    "    return(draft_folder,edited_folder,newfiles)"
   ]
  },
  {
   "cell_type": "code",
   "execution_count": 3,
   "metadata": {},
   "outputs": [],
   "source": [
    "def create_dummy_class(eachclass):\n",
    "    eachclass_info = eachclass.split(\":\")\n",
    "    namespace = eachclass_info[0]\n",
    "    classname = eachclass_info[1]\n",
    "    dummy_dict = {\n",
    "      \"@id\": eachclass,\n",
    "      \"@type\": \"rdfs:Class\",\n",
    "      \"rdfs:comment\": \"A dummy class to enable avoid referencing issues\",\n",
    "      \"rdfs:label\": classname,\n",
    "      \"rdfs:subClassOf\": {\n",
    "        \"@id\": \"schema:CreativeWork\"\n",
    "      }\n",
    "    }\n",
    "    return(dummy_dict)"
   ]
  },
  {
   "cell_type": "code",
   "execution_count": 4,
   "metadata": {},
   "outputs": [],
   "source": [
    "def check_draft_schema(script_path):\n",
    "    draft_folder,edited_folder,newfiles = check_files(script_path)\n",
    "    for eachfile in newfiles:\n",
    "        with open(os.path.join(draft_folder,eachfile),'r') as tempinfile:\n",
    "            tmpjson = json.load(tempinfile)\n",
    "        cleanjson = {}\n",
    "        cleanjson['@context']=tmpjson['@context']\n",
    "        graphlist = []\n",
    "        rangelist = []\n",
    "        for x in tmpjson['@graph']:\n",
    "            graphlist.append(x)\n",
    "            if x[\"@type\"]==\"rdf:Property\":\n",
    "                tmprangelist = x[\"schema:rangeIncludes\"]\n",
    "                for eachhit in tmprangelist:\n",
    "                    if (eachhit['@id'] not in rangelist) and (\"schema:\" not in eachhit['@id']):\n",
    "                        rangelist.append(eachhit['@id'])\n",
    "        for eachclass in rangelist:\n",
    "            dummy_dict = create_dummy_class(eachclass)\n",
    "            graphlist.append(dummy_dict)\n",
    "        cleanjson['@graph']=graphlist\n",
    "        with open(os.path.join(edited_folder,eachfile),'w+') as tmpoutfile:\n",
    "            tmpoutfile.write(json.dumps(cleanjson))\n"
   ]
  },
  {
   "cell_type": "code",
   "execution_count": 11,
   "metadata": {},
   "outputs": [],
   "source": [
    "## Check for json schema validation errors\n",
    "course_draft = \"Course_v0.9-DRAFT-2020_12_08.json\"\n",
    "draft_folder = os.path.join(script_path,'drafts/')\n",
    "draft_to_check = os.path.join(draft_folder,course_draft)\n",
    "with open(draft_to_check,'r') as infile:\n",
    "    coursedict = json.load(infile)\n",
    "\n",
    "testdata = {\"name\": \"Biology\"}\n",
    "testdata2 = {}\n",
    "validate(testdata2, schema = coursedict)"
   ]
  },
  {
   "cell_type": "code",
   "execution_count": null,
   "metadata": {},
   "outputs": [],
   "source": [
    "\n",
    "#### Main\n",
    "\n",
    "check_draft_schema(script_path)\n",
    "print(cleanjson)"
   ]
  },
  {
   "cell_type": "code",
   "execution_count": 21,
   "metadata": {},
   "outputs": [],
   "source": [
    "draft_folder,edited_folder,newfiles = check_files(script_path)\n",
    "for eachfile in newfiles:\n",
    "    with open(os.path.join(draft_folder,eachfile),'r') as tempinfile:\n",
    "        tmpjson = json.load(tempinfile)\n",
    "    cleanjson = {}\n",
    "    cleanjson['@context']=tmpjson['@context']\n",
    "    graphlist = []\n",
    "    rangelist = []\n",
    "    for x in tmpjson['@graph']:\n",
    "        graphlist.append(x)\n",
    "        if x[\"@type\"]==\"rdf:Property\":\n",
    "            tmprangelist = x[\"schema:rangeIncludes\"]\n",
    "            for eachhit in tmprangelist:\n",
    "                if (eachhit['@id'] not in rangelist) and (\"schema:\" not in eachhit['@id']):\n",
    "                    rangelist.append(eachhit['@id'])\n",
    "    for eachclass in rangelist:\n",
    "        dummy_dict = create_dummy_class(eachclass)\n",
    "        graphlist.append(dummy_dict)\n",
    "    cleanjson['@graph']=graphlist\n",
    "    with open(os.path.join(edited_folder,eachfile),'w+') as tmpoutfile:\n",
    "        tmpoutfile.write(json.dumps(cleanjson))\n",
    "        "
   ]
  },
  {
   "cell_type": "code",
   "execution_count": null,
   "metadata": {},
   "outputs": [],
   "source": []
  }
 ],
 "metadata": {
  "kernelspec": {
   "display_name": "Python 3",
   "language": "python",
   "name": "python3"
  },
  "language_info": {
   "codemirror_mode": {
    "name": "ipython",
    "version": 3
   },
   "file_extension": ".py",
   "mimetype": "text/x-python",
   "name": "python",
   "nbconvert_exporter": "python",
   "pygments_lexer": "ipython3",
   "version": "3.8.5"
  }
 },
 "nbformat": 4,
 "nbformat_minor": 4
}
